{
 "cells": [
  {
   "cell_type": "code",
   "execution_count": 3,
   "metadata": {},
   "outputs": [
    {
     "name": "stdout",
     "output_type": "stream",
     "text": [
      "Requirement already satisfied: google-api-python-client in a:\\anaconda\\envs\\latmo\\lib\\site-packages (2.135.0)\n",
      "Requirement already satisfied: httplib2<1.dev0,>=0.19.0 in a:\\anaconda\\envs\\latmo\\lib\\site-packages (from google-api-python-client) (0.22.0)\n",
      "Requirement already satisfied: google-auth!=2.24.0,!=2.25.0,<3.0.0.dev0,>=1.32.0 in a:\\anaconda\\envs\\latmo\\lib\\site-packages (from google-api-python-client) (2.30.0)\n",
      "Requirement already satisfied: google-auth-httplib2<1.0.0,>=0.2.0 in a:\\anaconda\\envs\\latmo\\lib\\site-packages (from google-api-python-client) (0.2.0)\n",
      "Requirement already satisfied: google-api-core!=2.0.*,!=2.1.*,!=2.2.*,!=2.3.0,<3.0.0.dev0,>=1.31.5 in a:\\anaconda\\envs\\latmo\\lib\\site-packages (from google-api-python-client) (2.19.1)\n",
      "Requirement already satisfied: uritemplate<5,>=3.0.1 in a:\\anaconda\\envs\\latmo\\lib\\site-packages (from google-api-python-client) (4.1.1)\n",
      "Requirement already satisfied: googleapis-common-protos<2.0.dev0,>=1.56.2 in a:\\anaconda\\envs\\latmo\\lib\\site-packages (from google-api-core!=2.0.*,!=2.1.*,!=2.2.*,!=2.3.0,<3.0.0.dev0,>=1.31.5->google-api-python-client) (1.63.1)\n",
      "Requirement already satisfied: protobuf!=3.20.0,!=3.20.1,!=4.21.0,!=4.21.1,!=4.21.2,!=4.21.3,!=4.21.4,!=4.21.5,<6.0.0.dev0,>=3.19.5 in a:\\anaconda\\envs\\latmo\\lib\\site-packages (from google-api-core!=2.0.*,!=2.1.*,!=2.2.*,!=2.3.0,<3.0.0.dev0,>=1.31.5->google-api-python-client) (4.25.3)\n",
      "Requirement already satisfied: proto-plus<2.0.0dev,>=1.22.3 in a:\\anaconda\\envs\\latmo\\lib\\site-packages (from google-api-core!=2.0.*,!=2.1.*,!=2.2.*,!=2.3.0,<3.0.0.dev0,>=1.31.5->google-api-python-client) (1.24.0)\n",
      "Requirement already satisfied: requests<3.0.0.dev0,>=2.18.0 in a:\\anaconda\\envs\\latmo\\lib\\site-packages (from google-api-core!=2.0.*,!=2.1.*,!=2.2.*,!=2.3.0,<3.0.0.dev0,>=1.31.5->google-api-python-client) (2.32.3)\n",
      "Requirement already satisfied: cachetools<6.0,>=2.0.0 in a:\\anaconda\\envs\\latmo\\lib\\site-packages (from google-auth!=2.24.0,!=2.25.0,<3.0.0.dev0,>=1.32.0->google-api-python-client) (5.3.3)\n",
      "Requirement already satisfied: pyasn1-modules>=0.2.1 in a:\\anaconda\\envs\\latmo\\lib\\site-packages (from google-auth!=2.24.0,!=2.25.0,<3.0.0.dev0,>=1.32.0->google-api-python-client) (0.4.0)\n",
      "Requirement already satisfied: rsa<5,>=3.1.4 in a:\\anaconda\\envs\\latmo\\lib\\site-packages (from google-auth!=2.24.0,!=2.25.0,<3.0.0.dev0,>=1.32.0->google-api-python-client) (4.9)\n",
      "Requirement already satisfied: pyparsing!=3.0.0,!=3.0.1,!=3.0.2,!=3.0.3,<4,>=2.4.2 in a:\\anaconda\\envs\\latmo\\lib\\site-packages (from httplib2<1.dev0,>=0.19.0->google-api-python-client) (3.1.2)\n",
      "Requirement already satisfied: pyasn1<0.7.0,>=0.4.6 in a:\\anaconda\\envs\\latmo\\lib\\site-packages (from pyasn1-modules>=0.2.1->google-auth!=2.24.0,!=2.25.0,<3.0.0.dev0,>=1.32.0->google-api-python-client) (0.6.0)\n",
      "Requirement already satisfied: charset-normalizer<4,>=2 in a:\\anaconda\\envs\\latmo\\lib\\site-packages (from requests<3.0.0.dev0,>=2.18.0->google-api-core!=2.0.*,!=2.1.*,!=2.2.*,!=2.3.0,<3.0.0.dev0,>=1.31.5->google-api-python-client) (3.3.2)\n",
      "Requirement already satisfied: idna<4,>=2.5 in a:\\anaconda\\envs\\latmo\\lib\\site-packages (from requests<3.0.0.dev0,>=2.18.0->google-api-core!=2.0.*,!=2.1.*,!=2.2.*,!=2.3.0,<3.0.0.dev0,>=1.31.5->google-api-python-client) (3.7)\n",
      "Requirement already satisfied: urllib3<3,>=1.21.1 in a:\\anaconda\\envs\\latmo\\lib\\site-packages (from requests<3.0.0.dev0,>=2.18.0->google-api-core!=2.0.*,!=2.1.*,!=2.2.*,!=2.3.0,<3.0.0.dev0,>=1.31.5->google-api-python-client) (2.2.1)\n",
      "Requirement already satisfied: certifi>=2017.4.17 in a:\\anaconda\\envs\\latmo\\lib\\site-packages (from requests<3.0.0.dev0,>=2.18.0->google-api-core!=2.0.*,!=2.1.*,!=2.2.*,!=2.3.0,<3.0.0.dev0,>=1.31.5->google-api-python-client) (2024.6.2)\n",
      "Note: you may need to restart the kernel to use updated packages.\n",
      "Requirement already satisfied: google-auth-oauthlib in a:\\anaconda\\envs\\latmo\\lib\\site-packages (1.2.0)\n",
      "Requirement already satisfied: google-auth>=2.15.0 in a:\\anaconda\\envs\\latmo\\lib\\site-packages (from google-auth-oauthlib) (2.30.0)\n",
      "Requirement already satisfied: requests-oauthlib>=0.7.0 in a:\\anaconda\\envs\\latmo\\lib\\site-packages (from google-auth-oauthlib) (2.0.0)\n",
      "Requirement already satisfied: cachetools<6.0,>=2.0.0 in a:\\anaconda\\envs\\latmo\\lib\\site-packages (from google-auth>=2.15.0->google-auth-oauthlib) (5.3.3)\n",
      "Requirement already satisfied: pyasn1-modules>=0.2.1 in a:\\anaconda\\envs\\latmo\\lib\\site-packages (from google-auth>=2.15.0->google-auth-oauthlib) (0.4.0)\n",
      "Requirement already satisfied: rsa<5,>=3.1.4 in a:\\anaconda\\envs\\latmo\\lib\\site-packages (from google-auth>=2.15.0->google-auth-oauthlib) (4.9)\n",
      "Requirement already satisfied: oauthlib>=3.0.0 in a:\\anaconda\\envs\\latmo\\lib\\site-packages (from requests-oauthlib>=0.7.0->google-auth-oauthlib) (3.2.2)\n",
      "Requirement already satisfied: requests>=2.0.0 in a:\\anaconda\\envs\\latmo\\lib\\site-packages (from requests-oauthlib>=0.7.0->google-auth-oauthlib) (2.32.3)\n",
      "Requirement already satisfied: pyasn1<0.7.0,>=0.4.6 in a:\\anaconda\\envs\\latmo\\lib\\site-packages (from pyasn1-modules>=0.2.1->google-auth>=2.15.0->google-auth-oauthlib) (0.6.0)\n",
      "Requirement already satisfied: charset-normalizer<4,>=2 in a:\\anaconda\\envs\\latmo\\lib\\site-packages (from requests>=2.0.0->requests-oauthlib>=0.7.0->google-auth-oauthlib) (3.3.2)\n",
      "Requirement already satisfied: idna<4,>=2.5 in a:\\anaconda\\envs\\latmo\\lib\\site-packages (from requests>=2.0.0->requests-oauthlib>=0.7.0->google-auth-oauthlib) (3.7)\n",
      "Requirement already satisfied: urllib3<3,>=1.21.1 in a:\\anaconda\\envs\\latmo\\lib\\site-packages (from requests>=2.0.0->requests-oauthlib>=0.7.0->google-auth-oauthlib) (2.2.1)\n",
      "Requirement already satisfied: certifi>=2017.4.17 in a:\\anaconda\\envs\\latmo\\lib\\site-packages (from requests>=2.0.0->requests-oauthlib>=0.7.0->google-auth-oauthlib) (2024.6.2)\n",
      "Note: you may need to restart the kernel to use updated packages.\n",
      "Requirement already satisfied: google-auth-httplib2 in a:\\anaconda\\envs\\latmo\\lib\\site-packages (0.2.0)\n",
      "Requirement already satisfied: google-auth in a:\\anaconda\\envs\\latmo\\lib\\site-packages (from google-auth-httplib2) (2.30.0)\n",
      "Requirement already satisfied: httplib2>=0.19.0 in a:\\anaconda\\envs\\latmo\\lib\\site-packages (from google-auth-httplib2) (0.22.0)\n",
      "Requirement already satisfied: pyparsing!=3.0.0,!=3.0.1,!=3.0.2,!=3.0.3,<4,>=2.4.2 in a:\\anaconda\\envs\\latmo\\lib\\site-packages (from httplib2>=0.19.0->google-auth-httplib2) (3.1.2)\n",
      "Requirement already satisfied: cachetools<6.0,>=2.0.0 in a:\\anaconda\\envs\\latmo\\lib\\site-packages (from google-auth->google-auth-httplib2) (5.3.3)\n",
      "Requirement already satisfied: pyasn1-modules>=0.2.1 in a:\\anaconda\\envs\\latmo\\lib\\site-packages (from google-auth->google-auth-httplib2) (0.4.0)\n",
      "Requirement already satisfied: rsa<5,>=3.1.4 in a:\\anaconda\\envs\\latmo\\lib\\site-packages (from google-auth->google-auth-httplib2) (4.9)\n",
      "Requirement already satisfied: pyasn1<0.7.0,>=0.4.6 in a:\\anaconda\\envs\\latmo\\lib\\site-packages (from pyasn1-modules>=0.2.1->google-auth->google-auth-httplib2) (0.6.0)\n",
      "Note: you may need to restart the kernel to use updated packages.\n",
      "Requirement already satisfied: beautifulsoup4 in a:\\anaconda\\envs\\latmo\\lib\\site-packages (4.12.3)\n",
      "Requirement already satisfied: soupsieve>1.2 in a:\\anaconda\\envs\\latmo\\lib\\site-packages (from beautifulsoup4) (2.5)\n",
      "Note: you may need to restart the kernel to use updated packages.\n"
     ]
    }
   ],
   "source": [
    "%pip install --upgrade google-api-python-client\n",
    "%pip install --upgrade google-auth-oauthlib\n",
    "%pip install --upgrade google-auth-httplib2\n",
    "%pip install --upgrade beautifulsoup4"
   ]
  },
  {
   "cell_type": "code",
   "execution_count": 5,
   "metadata": {},
   "outputs": [],
   "source": [
    "from langchain_community.agent_toolkits import GmailToolkit\n",
    "\n",
    "toolkit = GmailToolkit()"
   ]
  },
  {
   "cell_type": "code",
   "execution_count": 9,
   "metadata": {},
   "outputs": [],
   "source": [
    "from langchain_community.tools.gmail.utils import (\n",
    "    build_resource_service,\n",
    "    get_gmail_credentials,\n",
    ")\n",
    "\n",
    "# Can review scopes here https://developers.google.com/gmail/api/auth/scopes\n",
    "# For instance, readonly scope is 'https://www.googleapis.com/auth/gmail.readonly'\n",
    "credentials = get_gmail_credentials(\n",
    "    token_file=\"token.json\",\n",
    "    scopes=[\"https://mail.google.com/\"],\n",
    "    client_secrets_file=\"Credentials.json\",\n",
    ")\n",
    "api_resource = build_resource_service(credentials=credentials)\n",
    "toolkit = GmailToolkit(api_resource=api_resource)"
   ]
  },
  {
   "cell_type": "code",
   "execution_count": 11,
   "metadata": {},
   "outputs": [
    {
     "name": "stdout",
     "output_type": "stream",
     "text": [
      "List of Tools\n",
      "- create_gmail_draft\n",
      "- send_gmail_message\n",
      "- search_gmail\n",
      "- get_gmail_message\n",
      "- get_gmail_thread\n"
     ]
    }
   ],
   "source": [
    "tools = toolkit.get_tools()\n",
    "\n",
    "# For printing out Tool names in console\n",
    "print(\"List of Tools\")\n",
    "for tool in tools:\n",
    "    print(f\"- {tool.name}\")"
   ]
  },
  {
   "cell_type": "code",
   "execution_count": 13,
   "metadata": {},
   "outputs": [],
   "source": [
    "from langchain import hub\n",
    "from langchain.agents import AgentExecutor\n",
    "from langchain_groq import ChatGroq"
   ]
  },
  {
   "cell_type": "code",
   "execution_count": null,
   "metadata": {},
   "outputs": [],
   "source": [
    "llm = ChatGroq(temperature=1, model_name=\"Llama3-70b-8192\")"
   ]
  }
 ],
 "metadata": {
  "kernelspec": {
   "display_name": "LATMO",
   "language": "python",
   "name": "python3"
  },
  "language_info": {
   "codemirror_mode": {
    "name": "ipython",
    "version": 3
   },
   "file_extension": ".py",
   "mimetype": "text/x-python",
   "name": "python",
   "nbconvert_exporter": "python",
   "pygments_lexer": "ipython3",
   "version": "3.12.3"
  }
 },
 "nbformat": 4,
 "nbformat_minor": 2
}
